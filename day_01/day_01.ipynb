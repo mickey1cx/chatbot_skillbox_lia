{
 "cells": [
  {
   "cell_type": "code",
   "execution_count": 1,
   "metadata": {},
   "outputs": [],
   "source": [
    "BOT_CONFIG = {\n",
    "    'intents': {\n",
    "        'hello': {\n",
    "            'examples': ['привет', 'добрый день'],\n",
    "            'responses': ['ну привет', 'привет юзер']\n",
    "        },\n",
    "        'bye': {\n",
    "            'examples': ['пока'],\n",
    "            'responses': ['до свидания']\n",
    "        }\n",
    "    },\n",
    "    'failure_phrases': [\n",
    "        'Ничего не знаю',\n",
    "        'Моя хата с краю',\n",
    "        'Ничего не понимаю'\n",
    "    ]\n",
    "}"
   ]
  },
  {
   "cell_type": "code",
   "execution_count": 2,
   "metadata": {},
   "outputs": [],
   "source": [
    "import random"
   ]
  },
  {
   "cell_type": "code",
   "execution_count": 3,
   "metadata": {},
   "outputs": [],
   "source": [
    "def get_intent(text):\n",
    "    for intent, value in BOT_CONFIG['intents'].items():\n",
    "        for example in value['examples']:\n",
    "            if example == text:\n",
    "                return intent\n",
    "    return None"
   ]
  },
  {
   "cell_type": "code",
   "execution_count": 4,
   "metadata": {},
   "outputs": [],
   "source": [
    "def get_response(intent):\n",
    "    r = BOT_CONFIG['intents'][intent]['responses']\n",
    "    return random.choice(r)"
   ]
  },
  {
   "cell_type": "code",
   "execution_count": 5,
   "metadata": {},
   "outputs": [
    {
     "data": {
      "text/plain": [
       "'привет юзер'"
      ]
     },
     "execution_count": 5,
     "metadata": {},
     "output_type": "execute_result"
    }
   ],
   "source": [
    "get_response('hello')"
   ]
  },
  {
   "cell_type": "code",
   "execution_count": 6,
   "metadata": {},
   "outputs": [],
   "source": [
    "def get_failure():\n",
    "    r = BOT_CONFIG['failure_phrases']\n",
    "    return random.choice(r)"
   ]
  },
  {
   "cell_type": "code",
   "execution_count": 7,
   "metadata": {},
   "outputs": [
    {
     "data": {
      "text/plain": [
       "'Моя хата с краю'"
      ]
     },
     "execution_count": 7,
     "metadata": {},
     "output_type": "execute_result"
    }
   ],
   "source": [
    "get_failure()"
   ]
  },
  {
   "cell_type": "code",
   "execution_count": 8,
   "metadata": {},
   "outputs": [],
   "source": [
    "def generate_answer(text):\n",
    "    \n",
    "    intent = get_intent(text)\n",
    "    if intent:\n",
    "        response = get_response(intent)\n",
    "        return response\n",
    "    \n",
    "    failure = get_failure()\n",
    "    \n",
    "    return failure"
   ]
  },
  {
   "cell_type": "code",
   "execution_count": null,
   "metadata": {},
   "outputs": [
    {
     "name": "stdout",
     "output_type": "stream",
     "text": [
      "Введите вопрос:привет\n",
      "привет юзер\n",
      "Введите вопрос:пока\n",
      "до свидания\n"
     ]
    }
   ],
   "source": [
    "while True:\n",
    "    text = input('Введите вопрос:')\n",
    "    answer = generate_answer(text)\n",
    "    print(answer)"
   ]
  },
  {
   "cell_type": "code",
   "execution_count": null,
   "metadata": {},
   "outputs": [],
   "source": []
  },
  {
   "cell_type": "code",
   "execution_count": null,
   "metadata": {},
   "outputs": [],
   "source": []
  }
 ],
 "metadata": {
  "kernelspec": {
   "display_name": "Python 3",
   "language": "python",
   "name": "python3"
  },
  "language_info": {
   "codemirror_mode": {
    "name": "ipython",
    "version": 3
   },
   "file_extension": ".py",
   "mimetype": "text/x-python",
   "name": "python",
   "nbconvert_exporter": "python",
   "pygments_lexer": "ipython3",
   "version": "3.7.6"
  }
 },
 "nbformat": 4,
 "nbformat_minor": 4
}
