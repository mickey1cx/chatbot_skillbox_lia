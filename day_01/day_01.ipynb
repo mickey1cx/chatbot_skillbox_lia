{
 "cells": [
  {
   "cell_type": "code",
   "execution_count": 1,
   "metadata": {},
   "outputs": [],
   "source": [
    "BOT_CONFIG = {\n",
    "    'intents': {\n",
    "        'hello': {\n",
    "            'questions': ['привет', 'добрый день'],\n",
    "            'answers': ['ну привет', 'привет юзер']\n",
    "        },\n",
    "        'bye': {\n",
    "            'questions': ['пока'],\n",
    "            'answers': ['до свидания']\n",
    "        }\n",
    "    },\n",
    "    'default_answers': []\n",
    "}"
   ]
  },
  {
   "cell_type": "code",
   "execution_count": 2,
   "metadata": {},
   "outputs": [],
   "source": [
    "def generate_answer(text):\n",
    "    return text"
   ]
  },
  {
   "cell_type": "code",
   "execution_count": null,
   "metadata": {},
   "outputs": [
    {
     "name": "stdout",
     "output_type": "stream",
     "text": [
      "Введите вопрос:111\n",
      "111\n",
      "Введите вопрос:222\n",
      "222\n",
      "Введите вопрос:333\n",
      "333\n"
     ]
    }
   ],
   "source": [
    "while True:\n",
    "    text = input('Введите вопрос:')\n",
    "    answer = generate_answer(text)\n",
    "    print(answer)"
   ]
  },
  {
   "cell_type": "code",
   "execution_count": null,
   "metadata": {},
   "outputs": [],
   "source": []
  }
 ],
 "metadata": {
  "kernelspec": {
   "display_name": "Python 3",
   "language": "python",
   "name": "python3"
  },
  "language_info": {
   "codemirror_mode": {
    "name": "ipython",
    "version": 3
   },
   "file_extension": ".py",
   "mimetype": "text/x-python",
   "name": "python",
   "nbconvert_exporter": "python",
   "pygments_lexer": "ipython3",
   "version": "3.7.6"
  }
 },
 "nbformat": 4,
 "nbformat_minor": 4
}
