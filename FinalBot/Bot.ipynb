{
 "cells": [
  {
   "cell_type": "code",
   "execution_count": 21,
   "metadata": {},
   "outputs": [],
   "source": [
    "BOT_CONFIG = {\n",
    "    'intents': {\n",
    "        'hello': {\n",
    "            'examples': [\n",
    "                'привет',\n",
    "                'здаров',\n",
    "                'день добрый'\n",
    "                ]\n",
    "            },\n",
    "        'bot': {\n",
    "            'examples':[\n",
    "                'бот',\n",
    "                'робот'\n",
    "            ]\n",
    "        },\n",
    "        'goodbye': {\n",
    "            'examples': [\n",
    "                'пака',\n",
    "                'пока',\n",
    "                'давай',\n",
    "                'счастливо'\n",
    "                'удачи'\n",
    "            ]\n",
    "        }\n",
    "    }\n",
    "}"
   ]
  },
  {
   "cell_type": "code",
   "execution_count": 22,
   "metadata": {},
   "outputs": [],
   "source": [
    "with open('..\\dialogues.txt', encoding='utf-8') as f:\n",
    "    data = f.read()"
   ]
  },
  {
   "cell_type": "code",
   "execution_count": 23,
   "metadata": {},
   "outputs": [],
   "source": [
    "dialogues = []\n",
    "for d in data.split('\\n\\n'):\n",
    "    replicas = []\n",
    "    for t in d.split('\\n')[:2]:    # первые две части строки\n",
    "        t = t[2:].lower()\n",
    "        replicas.append(t)\n",
    "    if len(replicas) == 2 and 5<len(replicas[0])<25 and 5<len(replicas[1])<25:\n",
    "        dialogues.append(replicas)    \n"
   ]
  },
  {
   "cell_type": "code",
   "execution_count": 24,
   "metadata": {},
   "outputs": [],
   "source": [
    "BOT_DIALOGUES = dialogues[:100000]"
   ]
  },
  {
   "cell_type": "code",
   "execution_count": 25,
   "metadata": {},
   "outputs": [],
   "source": [
    "CLASS_THRESHOLD = 0.3\n",
    "GENER_THRESHOLD = 0.7"
   ]
  },
  {
   "cell_type": "code",
   "execution_count": 26,
   "metadata": {},
   "outputs": [],
   "source": [
    "X_text = []\n",
    "y = []\n",
    "\n",
    "for intent, value in BOT_CONFIG['intents'].items():\n",
    "    for example in value['examples']:\n",
    "        X_text.append(example)\n",
    "        y.append(intent)"
   ]
  },
  {
   "cell_type": "code",
   "execution_count": 46,
   "metadata": {},
   "outputs": [],
   "source": [
    "from sklearn.feature_extraction.text import CountVectorizer\n",
    "from sklearn.linear_model import LogisticRegression\n",
    "from nltk.metrics.distance import edit_distance"
   ]
  },
  {
   "cell_type": "code",
   "execution_count": 28,
   "metadata": {},
   "outputs": [],
   "source": [
    "VC = CountVectorizer()\n",
    "X =VC.fit_transform(X_text)"
   ]
  },
  {
   "cell_type": "code",
   "execution_count": 29,
   "metadata": {},
   "outputs": [
    {
     "data": {
      "text/plain": [
       "LogisticRegression(C=1.0, class_weight=None, dual=False, fit_intercept=True,\n",
       "                   intercept_scaling=1, l1_ratio=None, max_iter=100,\n",
       "                   multi_class='auto', n_jobs=None, penalty='l2',\n",
       "                   random_state=None, solver='lbfgs', tol=0.0001, verbose=0,\n",
       "                   warm_start=False)"
      ]
     },
     "execution_count": 29,
     "metadata": {},
     "output_type": "execute_result"
    }
   ],
   "source": [
    "CLF = LogisticRegression()\n",
    "CLF.fit(X, y)"
   ]
  },
  {
   "cell_type": "code",
   "execution_count": 44,
   "metadata": {},
   "outputs": [],
   "source": [
    "def get_intent(text):\n",
    "    probas = CLF.predict_proba(VC.transform([text]))\n",
    "    max_value = max(probas[0])\n",
    "    if max_value > CLASS_THRESHOLD:\n",
    "        idx = probas[0].tolist().index(max_value)\n",
    "        return CLF.classes_[idx]"
   ]
  },
  {
   "cell_type": "code",
   "execution_count": 48,
   "metadata": {},
   "outputs": [],
   "source": [
    "def get_answer_by_gen(text):\n",
    "    low_text = text.lower()\n",
    "    for question, answer in BOT_DIALOGUES:\n",
    "        if abs(len(question) - len(low_text)) / len(question) < 1 - GENER_THRESHOLD:\n",
    "            dist = edit_distance(question, low_text)\n",
    "            l = len(question)\n",
    "            diff = dist / l\n",
    "            sim = 1 - diff\n",
    "            if sim > GENER_THRESHOLD:\n",
    "                return answer\n",
    "    return None"
   ]
  },
  {
   "cell_type": "code",
   "execution_count": 52,
   "metadata": {},
   "outputs": [
    {
     "data": {
      "text/plain": [
       "'вы ко мне?'"
      ]
     },
     "execution_count": 52,
     "metadata": {},
     "output_type": "execute_result"
    }
   ],
   "source": [
    "get_answer_by_gen('досвидания')"
   ]
  },
  {
   "cell_type": "code",
   "execution_count": null,
   "metadata": {},
   "outputs": [],
   "source": []
  }
 ],
 "metadata": {
  "kernelspec": {
   "display_name": "Python 3",
   "language": "python",
   "name": "python3"
  },
  "language_info": {
   "codemirror_mode": {
    "name": "ipython",
    "version": 3
   },
   "file_extension": ".py",
   "mimetype": "text/x-python",
   "name": "python",
   "nbconvert_exporter": "python",
   "pygments_lexer": "ipython3",
   "version": "3.7.6"
  }
 },
 "nbformat": 4,
 "nbformat_minor": 4
}
